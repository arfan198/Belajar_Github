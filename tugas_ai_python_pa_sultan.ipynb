{
  "nbformat": 4,
  "nbformat_minor": 0,
  "metadata": {
    "colab": {
      "provenance": [],
      "authorship_tag": "ABX9TyPVUcPECnT0cnFhvwl32C/q",
      "include_colab_link": true
    },
    "kernelspec": {
      "name": "python3",
      "display_name": "Python 3"
    },
    "language_info": {
      "name": "python"
    }
  },
  "cells": [
    {
      "cell_type": "markdown",
      "metadata": {
        "id": "view-in-github",
        "colab_type": "text"
      },
      "source": [
        "<a href=\"https://colab.research.google.com/github/arfan198/Belajar_Github/blob/main/tugas_ai_python_pa_sultan.ipynb\" target=\"_parent\"><img src=\"https://colab.research.google.com/assets/colab-badge.svg\" alt=\"Open In Colab\"/></a>"
      ]
    },
    {
      "cell_type": "code",
      "execution_count": 1,
      "metadata": {
        "colab": {
          "base_uri": "https://localhost:8080/"
        },
        "id": "peM3O9sxfg1k",
        "outputId": "5534c723-da0b-4b6c-f2e4-a00ab78e630b"
      },
      "outputs": [
        {
          "output_type": "stream",
          "name": "stdout",
          "text": [
            "Nama Produk: Laptop ASUS ROG (Tipe: <class 'str'>)\n",
            "Stok Barang: 50 (Tipe: <class 'int'>)\n",
            "Harga Jual: 15500000.5 (Tipe: <class 'float'>)\n",
            "Harga dengan pajak 11% : Rp111000.0\n",
            "Harga setelah diskon 20% : Rp80000.0\n",
            "Jika 10 barang dibagi ke 3\n",
            "Bilangan pertama adalah: 50\n",
            "Bilangan kedua adalah: 5\n",
            "------------------------------\n",
            "Hasil Penjumlahan: 50 + 5 = 55\n",
            "Hasil Perkalian: 50 * 5 = 250\n",
            "Sisa Hasil Bagi: 50 % 5 = 0\n"
          ]
        }
      ],
      "source": [
        "# Contoh penggunaan variabel dan tipe data\n",
        "nama_produk = \"Laptop ASUS ROG\" # Tipe data String\n",
        "stok_barang = 50                 # Tipe data Integer\n",
        "harga_jual = 15500000.50        # Tipe data Float\n",
        "\n",
        "# Tampilkan nilai dan tipe datanya\n",
        "print(f\"Nama Produk: {nama_produk} (Tipe: {type(nama_produk)})\")\n",
        "print(f\"Stok Barang: {stok_barang} (Tipe: {type(stok_barang)})\")\n",
        "print(f\"Harga Jual: {harga_jual} (Tipe: {type(harga_jual)})\")\n",
        "\n",
        "\n",
        "# Membuat variabel untuk perhitungan\n",
        "harga_dasar = 100000\n",
        "pajak = 0.11 # 11%\n",
        "\n",
        "# Perhitungan dengan operator aritmatika\n",
        "harga_plus_pajak = harga_dasar + (harga_dasar * pajak)\n",
        "harga_setelah_diskon = harga_dasar - (harga_dasar * 0.2) # Diskon 20%\n",
        "\n",
        "# Hasil sisa pembagian\n",
        "total_barang = 10\n",
        "jumlah_paket = 3\n",
        "sisa_barang = total_barang % jumlah_paket\n",
        "\n",
        "# Cetak hasilnya dengan format f-string\n",
        "print(f\"Harga dengan pajak 11% : Rp{harga_plus_pajak}\")\n",
        "print(f\"Harga setelah diskon 20% : Rp{harga_setelah_diskon}\")\n",
        "print(f\"Jika {total_barang} barang dibagi ke {jumlah_paket}\")\n",
        "\n",
        "\n",
        "# Tuliskan dua bilangan yang ingin dihitung\n",
        "bilangan1 = 50\n",
        "bilangan2 = 5\n",
        "\n",
        "\n",
        "# Lakukan perhitungan dan simpan hasilnya di variabel baru\n",
        "hasil_penjumlahan = bilangan1 + bilangan2\n",
        "hasil_perkalian = bilangan1 * bilangan2\n",
        "sisa_bagi = bilangan1 % bilangan2\n",
        "\n",
        "\n",
        "# Tampilkan output ke layar dengan format yang rapi\n",
        "print(f\"Bilangan pertama adalah: {bilangan1}\")\n",
        "print(f\"Bilangan kedua adalah: {bilangan2}\")\n",
        "print(\"-\" * 30) # Garis pemisah agar rapi\n",
        "\n",
        "print(f\"Hasil Penjumlahan: {bilangan1} + {bilangan2} = {hasil_penjumlahan}\")\n",
        "print(f\"Hasil Perkalian: {bilangan1} * {bilangan2} = {hasil_perkalian}\")\n",
        "print(f\"Sisa Hasil Bagi: {bilangan1} % {bilangan2} = {sisa_bagi}\")\n",
        "\n",
        "\n",
        "\n"
      ]
    }
  ]
}